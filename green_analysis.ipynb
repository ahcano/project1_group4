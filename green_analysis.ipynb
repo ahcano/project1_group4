{
 "cells": [
  {
   "cell_type": "markdown",
   "metadata": {},
   "source": [
    "# Conduct Quantitative Analysis\n",
    "\n",
    "In this section, we calculate and visualize performance and risk metrics for the portfolios."
   ]
  },
  {
   "cell_type": "markdown",
   "metadata": {
    "tags": []
   },
   "source": [
    "## Performance Anlysis\n",
    "\n",
    "#### Calculate and Plot the daily returns."
   ]
  },
  {
   "cell_type": "code",
   "execution_count": 31,
   "metadata": {
    "tags": []
   },
   "outputs": [],
   "source": [
    "# Initial imports\n",
    "import os\n",
    "import requests\n",
    "import pandas as pd\n",
    "from dotenv import load_dotenv\n",
    "from pathlib import Path\n",
    "import datetime as dt\n",
    "import alpaca_trade_api as tradeapi\n",
    "#from MCForecastTools import MCSimulation\n",
    "import hvplot.pandas\n",
    "%matplotlib inline"
   ]
  },
  {
   "cell_type": "code",
   "execution_count": 32,
   "metadata": {
    "tags": []
   },
   "outputs": [],
   "source": [
    "# Create a path to the file - Algorithmic Daily Returns\n",
    "csv1path=Path(r\"C:\\Users\\nasir\\OneDrive\\Desktop\\Project 1/df_Manufacturing_other.csv\")"
   ]
  },
  {
   "cell_type": "code",
   "execution_count": 33,
   "metadata": {
    "tags": []
   },
   "outputs": [
    {
     "data": {
      "text/html": [
       "<div>\n",
       "<style scoped>\n",
       "    .dataframe tbody tr th:only-of-type {\n",
       "        vertical-align: middle;\n",
       "    }\n",
       "\n",
       "    .dataframe tbody tr th {\n",
       "        vertical-align: top;\n",
       "    }\n",
       "\n",
       "    .dataframe thead th {\n",
       "        text-align: right;\n",
       "    }\n",
       "</style>\n",
       "<table border=\"1\" class=\"dataframe\">\n",
       "  <thead>\n",
       "    <tr style=\"text-align: right;\">\n",
       "      <th></th>\n",
       "      <th>TSLA</th>\n",
       "      <th>RIVN</th>\n",
       "      <th>ON</th>\n",
       "      <th>LCID</th>\n",
       "      <th>OLED</th>\n",
       "      <th>ALGM</th>\n",
       "      <th>POWI</th>\n",
       "      <th>WOLF</th>\n",
       "      <th>ENS</th>\n",
       "      <th>AEIS</th>\n",
       "      <th>BE</th>\n",
       "      <th>VICR</th>\n",
       "      <th>HASI</th>\n",
       "      <th>NVTS</th>\n",
       "      <th>GGR</th>\n",
       "      <th>LICY</th>\n",
       "    </tr>\n",
       "  </thead>\n",
       "  <tbody>\n",
       "    <tr>\n",
       "      <th>NaN</th>\n",
       "      <td>close</td>\n",
       "      <td>close</td>\n",
       "      <td>close</td>\n",
       "      <td>close</td>\n",
       "      <td>close</td>\n",
       "      <td>close</td>\n",
       "      <td>close</td>\n",
       "      <td>close</td>\n",
       "      <td>close</td>\n",
       "      <td>close</td>\n",
       "      <td>close</td>\n",
       "      <td>close</td>\n",
       "      <td>close</td>\n",
       "      <td>close</td>\n",
       "      <td>close</td>\n",
       "      <td>close</td>\n",
       "    </tr>\n",
       "    <tr>\n",
       "      <th>2022-01-03 05:00:00+00:00</th>\n",
       "      <td>1199.78</td>\n",
       "      <td>102.72</td>\n",
       "      <td>70.17</td>\n",
       "      <td>40.93</td>\n",
       "      <td>171.41</td>\n",
       "      <td>36.41</td>\n",
       "      <td>92.54</td>\n",
       "      <td>121.14</td>\n",
       "      <td>81.1</td>\n",
       "      <td>92.82</td>\n",
       "      <td>22.14</td>\n",
       "      <td>123.98</td>\n",
       "      <td>54.06</td>\n",
       "      <td>16.26</td>\n",
       "      <td>9.93</td>\n",
       "      <td>10.07</td>\n",
       "    </tr>\n",
       "    <tr>\n",
       "      <th>2022-01-04 05:00:00+00:00</th>\n",
       "      <td>1149.59</td>\n",
       "      <td>101.39</td>\n",
       "      <td>70.95</td>\n",
       "      <td>39.41</td>\n",
       "      <td>175.26</td>\n",
       "      <td>35.28</td>\n",
       "      <td>91.53</td>\n",
       "      <td>121.7</td>\n",
       "      <td>82.21</td>\n",
       "      <td>92.9</td>\n",
       "      <td>21.55</td>\n",
       "      <td>126.18</td>\n",
       "      <td>53.64</td>\n",
       "      <td>15.61</td>\n",
       "      <td>9.88</td>\n",
       "      <td>9.99</td>\n",
       "    </tr>\n",
       "    <tr>\n",
       "      <th>2022-01-05 05:00:00+00:00</th>\n",
       "      <td>1088.12</td>\n",
       "      <td>90.01</td>\n",
       "      <td>67.42</td>\n",
       "      <td>36.68</td>\n",
       "      <td>166.11</td>\n",
       "      <td>33.21</td>\n",
       "      <td>86.63</td>\n",
       "      <td>114.46</td>\n",
       "      <td>79.72</td>\n",
       "      <td>89.42</td>\n",
       "      <td>20.21</td>\n",
       "      <td>123.14</td>\n",
       "      <td>49.86</td>\n",
       "      <td>14.45</td>\n",
       "      <td>9.93</td>\n",
       "      <td>9.12</td>\n",
       "    </tr>\n",
       "    <tr>\n",
       "      <th>2022-01-06 05:00:00+00:00</th>\n",
       "      <td>1064.7</td>\n",
       "      <td>87.33</td>\n",
       "      <td>67.25</td>\n",
       "      <td>38.22</td>\n",
       "      <td>164.74</td>\n",
       "      <td>32.97</td>\n",
       "      <td>87.75</td>\n",
       "      <td>113.05</td>\n",
       "      <td>79.13</td>\n",
       "      <td>91.8</td>\n",
       "      <td>19.47</td>\n",
       "      <td>120.0</td>\n",
       "      <td>49.42</td>\n",
       "      <td>13.5</td>\n",
       "      <td>9.94</td>\n",
       "      <td>8.8</td>\n",
       "    </tr>\n",
       "    <tr>\n",
       "      <th>2022-01-07 05:00:00+00:00</th>\n",
       "      <td>1026.96</td>\n",
       "      <td>86.28</td>\n",
       "      <td>64.56</td>\n",
       "      <td>41.98</td>\n",
       "      <td>158.85</td>\n",
       "      <td>32.17</td>\n",
       "      <td>85.11</td>\n",
       "      <td>108.97</td>\n",
       "      <td>78.85</td>\n",
       "      <td>89.57</td>\n",
       "      <td>19.25</td>\n",
       "      <td>115.94</td>\n",
       "      <td>49.0</td>\n",
       "      <td>13.13</td>\n",
       "      <td>9.9</td>\n",
       "      <td>9.02</td>\n",
       "    </tr>\n",
       "    <tr>\n",
       "      <th>2022-01-10 05:00:00+00:00</th>\n",
       "      <td>1058.12</td>\n",
       "      <td>81.44</td>\n",
       "      <td>65.12</td>\n",
       "      <td>41.72</td>\n",
       "      <td>160.13</td>\n",
       "      <td>32.23</td>\n",
       "      <td>85.05</td>\n",
       "      <td>106.77</td>\n",
       "      <td>78.36</td>\n",
       "      <td>88.79</td>\n",
       "      <td>19.13</td>\n",
       "      <td>111.75</td>\n",
       "      <td>47.89</td>\n",
       "      <td>13.03</td>\n",
       "      <td>9.9</td>\n",
       "      <td>8.69</td>\n",
       "    </tr>\n",
       "    <tr>\n",
       "      <th>2022-01-11 05:00:00+00:00</th>\n",
       "      <td>1064.4</td>\n",
       "      <td>83.55</td>\n",
       "      <td>65.93</td>\n",
       "      <td>45.47</td>\n",
       "      <td>161.97</td>\n",
       "      <td>32.46</td>\n",
       "      <td>85.64</td>\n",
       "      <td>108.91</td>\n",
       "      <td>79.87</td>\n",
       "      <td>90.25</td>\n",
       "      <td>19.65</td>\n",
       "      <td>115.08</td>\n",
       "      <td>48.72</td>\n",
       "      <td>12.6</td>\n",
       "      <td>9.92</td>\n",
       "      <td>8.99</td>\n",
       "    </tr>\n",
       "    <tr>\n",
       "      <th>2022-01-12 05:00:00+00:00</th>\n",
       "      <td>1106.22</td>\n",
       "      <td>86.48</td>\n",
       "      <td>66.49</td>\n",
       "      <td>45.43</td>\n",
       "      <td>162.0</td>\n",
       "      <td>32.13</td>\n",
       "      <td>84.42</td>\n",
       "      <td>110.5</td>\n",
       "      <td>79.9</td>\n",
       "      <td>92.23</td>\n",
       "      <td>19.18</td>\n",
       "      <td>112.62</td>\n",
       "      <td>48.56</td>\n",
       "      <td>12.41</td>\n",
       "      <td>9.92</td>\n",
       "      <td>9.54</td>\n",
       "    </tr>\n",
       "    <tr>\n",
       "      <th>2022-01-13 05:00:00+00:00</th>\n",
       "      <td>1031.56</td>\n",
       "      <td>80.31</td>\n",
       "      <td>64.64</td>\n",
       "      <td>41.41</td>\n",
       "      <td>157.82</td>\n",
       "      <td>30.81</td>\n",
       "      <td>83.41</td>\n",
       "      <td>105.14</td>\n",
       "      <td>80.48</td>\n",
       "      <td>92.13</td>\n",
       "      <td>18.31</td>\n",
       "      <td>108.77</td>\n",
       "      <td>46.2</td>\n",
       "      <td>11.63</td>\n",
       "      <td>9.92</td>\n",
       "      <td>9.55</td>\n",
       "    </tr>\n",
       "  </tbody>\n",
       "</table>\n",
       "</div>"
      ],
      "text/plain": [
       "                              TSLA    RIVN     ON   LCID    OLED   ALGM  \\\n",
       "NaN                          close   close  close  close   close  close   \n",
       "2022-01-03 05:00:00+00:00  1199.78  102.72  70.17  40.93  171.41  36.41   \n",
       "2022-01-04 05:00:00+00:00  1149.59  101.39  70.95  39.41  175.26  35.28   \n",
       "2022-01-05 05:00:00+00:00  1088.12   90.01  67.42  36.68  166.11  33.21   \n",
       "2022-01-06 05:00:00+00:00   1064.7   87.33  67.25  38.22  164.74  32.97   \n",
       "2022-01-07 05:00:00+00:00  1026.96   86.28  64.56  41.98  158.85  32.17   \n",
       "2022-01-10 05:00:00+00:00  1058.12   81.44  65.12  41.72  160.13  32.23   \n",
       "2022-01-11 05:00:00+00:00   1064.4   83.55  65.93  45.47  161.97  32.46   \n",
       "2022-01-12 05:00:00+00:00  1106.22   86.48  66.49  45.43   162.0  32.13   \n",
       "2022-01-13 05:00:00+00:00  1031.56   80.31  64.64  41.41  157.82  30.81   \n",
       "\n",
       "                            POWI    WOLF    ENS   AEIS     BE    VICR   HASI  \\\n",
       "NaN                        close   close  close  close  close   close  close   \n",
       "2022-01-03 05:00:00+00:00  92.54  121.14   81.1  92.82  22.14  123.98  54.06   \n",
       "2022-01-04 05:00:00+00:00  91.53   121.7  82.21   92.9  21.55  126.18  53.64   \n",
       "2022-01-05 05:00:00+00:00  86.63  114.46  79.72  89.42  20.21  123.14  49.86   \n",
       "2022-01-06 05:00:00+00:00  87.75  113.05  79.13   91.8  19.47   120.0  49.42   \n",
       "2022-01-07 05:00:00+00:00  85.11  108.97  78.85  89.57  19.25  115.94   49.0   \n",
       "2022-01-10 05:00:00+00:00  85.05  106.77  78.36  88.79  19.13  111.75  47.89   \n",
       "2022-01-11 05:00:00+00:00  85.64  108.91  79.87  90.25  19.65  115.08  48.72   \n",
       "2022-01-12 05:00:00+00:00  84.42   110.5   79.9  92.23  19.18  112.62  48.56   \n",
       "2022-01-13 05:00:00+00:00  83.41  105.14  80.48  92.13  18.31  108.77   46.2   \n",
       "\n",
       "                            NVTS    GGR   LICY  \n",
       "NaN                        close  close  close  \n",
       "2022-01-03 05:00:00+00:00  16.26   9.93  10.07  \n",
       "2022-01-04 05:00:00+00:00  15.61   9.88   9.99  \n",
       "2022-01-05 05:00:00+00:00  14.45   9.93   9.12  \n",
       "2022-01-06 05:00:00+00:00   13.5   9.94    8.8  \n",
       "2022-01-07 05:00:00+00:00  13.13    9.9   9.02  \n",
       "2022-01-10 05:00:00+00:00  13.03    9.9   8.69  \n",
       "2022-01-11 05:00:00+00:00   12.6   9.92   8.99  \n",
       "2022-01-12 05:00:00+00:00  12.41   9.92   9.54  \n",
       "2022-01-13 05:00:00+00:00  11.63   9.92   9.55  "
      ]
     },
     "execution_count": 33,
     "metadata": {},
     "output_type": "execute_result"
    }
   ],
   "source": [
    "#Read the df_Manufacturing_other and clean the data.\n",
    "df_Manufacturing_other = pd.read_csv(csv1path,index_col=\"Unnamed: 0\",infer_datetime_format=True,parse_dates=True).dropna()\n",
    "df_Manufacturing_other.head(10)"
   ]
  },
  {
   "cell_type": "code",
   "execution_count": 39,
   "metadata": {
    "tags": []
   },
   "outputs": [
    {
     "data": {
      "text/html": [
       "<div>\n",
       "<style scoped>\n",
       "    .dataframe tbody tr th:only-of-type {\n",
       "        vertical-align: middle;\n",
       "    }\n",
       "\n",
       "    .dataframe tbody tr th {\n",
       "        vertical-align: top;\n",
       "    }\n",
       "\n",
       "    .dataframe thead th {\n",
       "        text-align: right;\n",
       "    }\n",
       "</style>\n",
       "<table border=\"1\" class=\"dataframe\">\n",
       "  <thead>\n",
       "    <tr style=\"text-align: right;\">\n",
       "      <th></th>\n",
       "      <th>TSLA</th>\n",
       "      <th>RIVN</th>\n",
       "      <th>ON</th>\n",
       "      <th>LCID</th>\n",
       "      <th>OLED</th>\n",
       "      <th>ALGM</th>\n",
       "      <th>POWI</th>\n",
       "      <th>WOLF</th>\n",
       "      <th>ENS</th>\n",
       "      <th>AEIS</th>\n",
       "      <th>BE</th>\n",
       "      <th>VICR</th>\n",
       "      <th>HASI</th>\n",
       "      <th>NVTS</th>\n",
       "      <th>GGR</th>\n",
       "      <th>LICY</th>\n",
       "    </tr>\n",
       "  </thead>\n",
       "  <tbody>\n",
       "    <tr>\n",
       "      <th>2022-01-03 05:00:00+00:00</th>\n",
       "      <td>1199.78</td>\n",
       "      <td>102.72</td>\n",
       "      <td>70.17</td>\n",
       "      <td>40.93</td>\n",
       "      <td>171.41</td>\n",
       "      <td>36.41</td>\n",
       "      <td>92.54</td>\n",
       "      <td>121.14</td>\n",
       "      <td>81.1</td>\n",
       "      <td>92.82</td>\n",
       "      <td>22.14</td>\n",
       "      <td>123.98</td>\n",
       "      <td>54.06</td>\n",
       "      <td>16.26</td>\n",
       "      <td>9.93</td>\n",
       "      <td>10.07</td>\n",
       "    </tr>\n",
       "    <tr>\n",
       "      <th>2022-01-04 05:00:00+00:00</th>\n",
       "      <td>1149.59</td>\n",
       "      <td>101.39</td>\n",
       "      <td>70.95</td>\n",
       "      <td>39.41</td>\n",
       "      <td>175.26</td>\n",
       "      <td>35.28</td>\n",
       "      <td>91.53</td>\n",
       "      <td>121.7</td>\n",
       "      <td>82.21</td>\n",
       "      <td>92.9</td>\n",
       "      <td>21.55</td>\n",
       "      <td>126.18</td>\n",
       "      <td>53.64</td>\n",
       "      <td>15.61</td>\n",
       "      <td>9.88</td>\n",
       "      <td>9.99</td>\n",
       "    </tr>\n",
       "    <tr>\n",
       "      <th>2022-01-05 05:00:00+00:00</th>\n",
       "      <td>1088.12</td>\n",
       "      <td>90.01</td>\n",
       "      <td>67.42</td>\n",
       "      <td>36.68</td>\n",
       "      <td>166.11</td>\n",
       "      <td>33.21</td>\n",
       "      <td>86.63</td>\n",
       "      <td>114.46</td>\n",
       "      <td>79.72</td>\n",
       "      <td>89.42</td>\n",
       "      <td>20.21</td>\n",
       "      <td>123.14</td>\n",
       "      <td>49.86</td>\n",
       "      <td>14.45</td>\n",
       "      <td>9.93</td>\n",
       "      <td>9.12</td>\n",
       "    </tr>\n",
       "    <tr>\n",
       "      <th>2022-01-06 05:00:00+00:00</th>\n",
       "      <td>1064.7</td>\n",
       "      <td>87.33</td>\n",
       "      <td>67.25</td>\n",
       "      <td>38.22</td>\n",
       "      <td>164.74</td>\n",
       "      <td>32.97</td>\n",
       "      <td>87.75</td>\n",
       "      <td>113.05</td>\n",
       "      <td>79.13</td>\n",
       "      <td>91.8</td>\n",
       "      <td>19.47</td>\n",
       "      <td>120.0</td>\n",
       "      <td>49.42</td>\n",
       "      <td>13.5</td>\n",
       "      <td>9.94</td>\n",
       "      <td>8.8</td>\n",
       "    </tr>\n",
       "    <tr>\n",
       "      <th>2022-01-07 05:00:00+00:00</th>\n",
       "      <td>1026.96</td>\n",
       "      <td>86.28</td>\n",
       "      <td>64.56</td>\n",
       "      <td>41.98</td>\n",
       "      <td>158.85</td>\n",
       "      <td>32.17</td>\n",
       "      <td>85.11</td>\n",
       "      <td>108.97</td>\n",
       "      <td>78.85</td>\n",
       "      <td>89.57</td>\n",
       "      <td>19.25</td>\n",
       "      <td>115.94</td>\n",
       "      <td>49.0</td>\n",
       "      <td>13.13</td>\n",
       "      <td>9.9</td>\n",
       "      <td>9.02</td>\n",
       "    </tr>\n",
       "    <tr>\n",
       "      <th>...</th>\n",
       "      <td>...</td>\n",
       "      <td>...</td>\n",
       "      <td>...</td>\n",
       "      <td>...</td>\n",
       "      <td>...</td>\n",
       "      <td>...</td>\n",
       "      <td>...</td>\n",
       "      <td>...</td>\n",
       "      <td>...</td>\n",
       "      <td>...</td>\n",
       "      <td>...</td>\n",
       "      <td>...</td>\n",
       "      <td>...</td>\n",
       "      <td>...</td>\n",
       "      <td>...</td>\n",
       "      <td>...</td>\n",
       "    </tr>\n",
       "    <tr>\n",
       "      <th>2023-10-02 04:00:00+00:00</th>\n",
       "      <td>251.6</td>\n",
       "      <td>23.66</td>\n",
       "      <td>93.37</td>\n",
       "      <td>5.54</td>\n",
       "      <td>156.05</td>\n",
       "      <td>31.89</td>\n",
       "      <td>76.76</td>\n",
       "      <td>37.98</td>\n",
       "      <td>93.67</td>\n",
       "      <td>102.23</td>\n",
       "      <td>12.19</td>\n",
       "      <td>58.18</td>\n",
       "      <td>19.68</td>\n",
       "      <td>6.95</td>\n",
       "      <td>2.61</td>\n",
       "      <td>3.41</td>\n",
       "    </tr>\n",
       "    <tr>\n",
       "      <th>2023-10-03 04:00:00+00:00</th>\n",
       "      <td>246.53</td>\n",
       "      <td>21.69</td>\n",
       "      <td>89.76</td>\n",
       "      <td>5.38</td>\n",
       "      <td>153.86</td>\n",
       "      <td>29.98</td>\n",
       "      <td>75.49</td>\n",
       "      <td>33.82</td>\n",
       "      <td>93.33</td>\n",
       "      <td>98.95</td>\n",
       "      <td>11.54</td>\n",
       "      <td>56.33</td>\n",
       "      <td>16.5</td>\n",
       "      <td>6.68</td>\n",
       "      <td>2.57</td>\n",
       "      <td>3.23</td>\n",
       "    </tr>\n",
       "    <tr>\n",
       "      <th>2023-10-04 04:00:00+00:00</th>\n",
       "      <td>261.16</td>\n",
       "      <td>23.69</td>\n",
       "      <td>89.99</td>\n",
       "      <td>5.56</td>\n",
       "      <td>156.15</td>\n",
       "      <td>30.92</td>\n",
       "      <td>75.79</td>\n",
       "      <td>34.77</td>\n",
       "      <td>93.11</td>\n",
       "      <td>99.18</td>\n",
       "      <td>11.38</td>\n",
       "      <td>56.97</td>\n",
       "      <td>15.42</td>\n",
       "      <td>6.73</td>\n",
       "      <td>2.5</td>\n",
       "      <td>3.12</td>\n",
       "    </tr>\n",
       "    <tr>\n",
       "      <th>2023-10-05 04:00:00+00:00</th>\n",
       "      <td>260.05</td>\n",
       "      <td>18.27</td>\n",
       "      <td>88.17</td>\n",
       "      <td>5.16</td>\n",
       "      <td>155.68</td>\n",
       "      <td>30.37</td>\n",
       "      <td>75.1</td>\n",
       "      <td>32.8</td>\n",
       "      <td>92.63</td>\n",
       "      <td>97.68</td>\n",
       "      <td>10.74</td>\n",
       "      <td>56.62</td>\n",
       "      <td>14.36</td>\n",
       "      <td>6.32</td>\n",
       "      <td>2.57</td>\n",
       "      <td>2.95</td>\n",
       "    </tr>\n",
       "    <tr>\n",
       "      <th>2023-10-06 04:00:00+00:00</th>\n",
       "      <td>260.53</td>\n",
       "      <td>18.92</td>\n",
       "      <td>90.93</td>\n",
       "      <td>5.13</td>\n",
       "      <td>158.78</td>\n",
       "      <td>30.92</td>\n",
       "      <td>75.99</td>\n",
       "      <td>33.15</td>\n",
       "      <td>94.01</td>\n",
       "      <td>98.82</td>\n",
       "      <td>11.13</td>\n",
       "      <td>56.6</td>\n",
       "      <td>14.42</td>\n",
       "      <td>6.43</td>\n",
       "      <td>2.52</td>\n",
       "      <td>3.12</td>\n",
       "    </tr>\n",
       "  </tbody>\n",
       "</table>\n",
       "<p>443 rows × 16 columns</p>\n",
       "</div>"
      ],
      "text/plain": [
       "                              TSLA    RIVN     ON   LCID    OLED   ALGM  \\\n",
       "2022-01-03 05:00:00+00:00  1199.78  102.72  70.17  40.93  171.41  36.41   \n",
       "2022-01-04 05:00:00+00:00  1149.59  101.39  70.95  39.41  175.26  35.28   \n",
       "2022-01-05 05:00:00+00:00  1088.12   90.01  67.42  36.68  166.11  33.21   \n",
       "2022-01-06 05:00:00+00:00   1064.7   87.33  67.25  38.22  164.74  32.97   \n",
       "2022-01-07 05:00:00+00:00  1026.96   86.28  64.56  41.98  158.85  32.17   \n",
       "...                            ...     ...    ...    ...     ...    ...   \n",
       "2023-10-02 04:00:00+00:00    251.6   23.66  93.37   5.54  156.05  31.89   \n",
       "2023-10-03 04:00:00+00:00   246.53   21.69  89.76   5.38  153.86  29.98   \n",
       "2023-10-04 04:00:00+00:00   261.16   23.69  89.99   5.56  156.15  30.92   \n",
       "2023-10-05 04:00:00+00:00   260.05   18.27  88.17   5.16  155.68  30.37   \n",
       "2023-10-06 04:00:00+00:00   260.53   18.92  90.93   5.13  158.78  30.92   \n",
       "\n",
       "                            POWI    WOLF    ENS    AEIS     BE    VICR   HASI  \\\n",
       "2022-01-03 05:00:00+00:00  92.54  121.14   81.1   92.82  22.14  123.98  54.06   \n",
       "2022-01-04 05:00:00+00:00  91.53   121.7  82.21    92.9  21.55  126.18  53.64   \n",
       "2022-01-05 05:00:00+00:00  86.63  114.46  79.72   89.42  20.21  123.14  49.86   \n",
       "2022-01-06 05:00:00+00:00  87.75  113.05  79.13    91.8  19.47   120.0  49.42   \n",
       "2022-01-07 05:00:00+00:00  85.11  108.97  78.85   89.57  19.25  115.94   49.0   \n",
       "...                          ...     ...    ...     ...    ...     ...    ...   \n",
       "2023-10-02 04:00:00+00:00  76.76   37.98  93.67  102.23  12.19   58.18  19.68   \n",
       "2023-10-03 04:00:00+00:00  75.49   33.82  93.33   98.95  11.54   56.33   16.5   \n",
       "2023-10-04 04:00:00+00:00  75.79   34.77  93.11   99.18  11.38   56.97  15.42   \n",
       "2023-10-05 04:00:00+00:00   75.1    32.8  92.63   97.68  10.74   56.62  14.36   \n",
       "2023-10-06 04:00:00+00:00  75.99   33.15  94.01   98.82  11.13    56.6  14.42   \n",
       "\n",
       "                            NVTS   GGR   LICY  \n",
       "2022-01-03 05:00:00+00:00  16.26  9.93  10.07  \n",
       "2022-01-04 05:00:00+00:00  15.61  9.88   9.99  \n",
       "2022-01-05 05:00:00+00:00  14.45  9.93   9.12  \n",
       "2022-01-06 05:00:00+00:00   13.5  9.94    8.8  \n",
       "2022-01-07 05:00:00+00:00  13.13   9.9   9.02  \n",
       "...                          ...   ...    ...  \n",
       "2023-10-02 04:00:00+00:00   6.95  2.61   3.41  \n",
       "2023-10-03 04:00:00+00:00   6.68  2.57   3.23  \n",
       "2023-10-04 04:00:00+00:00   6.73   2.5   3.12  \n",
       "2023-10-05 04:00:00+00:00   6.32  2.57   2.95  \n",
       "2023-10-06 04:00:00+00:00   6.43  2.52   3.12  \n",
       "\n",
       "[443 rows x 16 columns]"
      ]
     },
     "execution_count": 39,
     "metadata": {},
     "output_type": "execute_result"
    }
   ],
   "source": [
    " # drop the 1st raw\n",
    "df_Manufacturing_other[1:]"
   ]
  },
  {
   "cell_type": "code",
   "execution_count": 12,
   "metadata": {},
   "outputs": [],
   "source": [
    "# Plot daily returns of all portfolios"
   ]
  },
  {
   "cell_type": "code",
   "execution_count": null,
   "metadata": {},
   "outputs": [],
   "source": [
    "# Calculate Daily Returns\n",
    "df_Renewable = df_Renewable.pct_change()\n",
    "# Drop nulls\n",
    "df_Renewable = df_Renewable.dropna()\n",
    "df_Renewable"
   ]
  },
  {
   "cell_type": "code",
   "execution_count": null,
   "metadata": {},
   "outputs": [],
   "source": [
    "# Calculate Daily Returns\n",
    "df_Resources = df_Resources.pct_change()\n",
    "# Drop nulls\n",
    "df_Resources = df_Resources.dropna()\n",
    "df_Resources"
   ]
  },
  {
   "cell_type": "markdown",
   "metadata": {
    "jp-MarkdownHeadingCollapsed": true,
    "tags": []
   },
   "source": [
    "#### Calculate and Plot cumulative returns."
   ]
  },
  {
   "cell_type": "code",
   "execution_count": null,
   "metadata": {},
   "outputs": [],
   "source": [
    "# Calculate cumulative returns of all portfolios\n",
    "\n",
    "# Plot cumulative returns\n"
   ]
  },
  {
   "cell_type": "markdown",
   "metadata": {},
   "source": [
    "---"
   ]
  },
  {
   "cell_type": "markdown",
   "metadata": {},
   "source": [
    "## Risk Analysis\n",
    "\n",
    "Determine the _risk_ of each portfolio:\n",
    "\n",
    "1. Create a box plot for each portfolio. \n",
    "2. Calculate the standard deviation for all portfolios.\n",
    "4. Determine which portfolios are riskier than the S&P TSX 500.\n",
    "5. Calculate the Annualized Standard Deviation."
   ]
  },
  {
   "cell_type": "markdown",
   "metadata": {
    "tags": []
   },
   "source": [
    "### Create a box plot for each portfolio\n"
   ]
  },
  {
   "cell_type": "code",
   "execution_count": null,
   "metadata": {},
   "outputs": [],
   "source": [
    "# Box plot to visually show risk\n"
   ]
  },
  {
   "cell_type": "markdown",
   "metadata": {},
   "source": [
    "### Calculate Standard Deviations"
   ]
  },
  {
   "cell_type": "code",
   "execution_count": null,
   "metadata": {},
   "outputs": [],
   "source": [
    "# Calculate the daily standard deviations of all portfolios\n"
   ]
  },
  {
   "cell_type": "markdown",
   "metadata": {},
   "source": [
    "### Determine which portfolios are riskier than the S&P 500"
   ]
  },
  {
   "cell_type": "code",
   "execution_count": null,
   "metadata": {},
   "outputs": [],
   "source": [
    "# Calculate  the daily standard deviation of S&P 500\n",
    "\n",
    "# Determine which portfolios are riskier than the S&P 500\n"
   ]
  },
  {
   "cell_type": "markdown",
   "metadata": {},
   "source": [
    "### Calculate the Annualized Standard Deviation"
   ]
  },
  {
   "cell_type": "code",
   "execution_count": null,
   "metadata": {},
   "outputs": [],
   "source": [
    "# Calculate the annualized standard deviation (252 trading days)\n"
   ]
  },
  {
   "cell_type": "markdown",
   "metadata": {},
   "source": [
    "---"
   ]
  },
  {
   "cell_type": "markdown",
   "metadata": {},
   "source": [
    "## Rolling Statistics\n",
    "\n",
    "Risk changes over time. Analyze the rolling statistics for Risk and Beta. \n",
    "\n",
    "1. Calculate and plot the rolling standard deviation for for all portfolios using a 21-day window.\n",
    "2. Calculate the correlation between each stock to determine which portfolios may mimick the S&P 500.\n",
    "3. Choose one portfolio, then calculate and plot the 60-day rolling beta for it and the S&P 500."
   ]
  },
  {
   "cell_type": "markdown",
   "metadata": {
    "jp-MarkdownHeadingCollapsed": true,
    "tags": []
   },
   "source": [
    "### Calculate and plot rolling `std` for all portfolios with 21-day window"
   ]
  },
  {
   "cell_type": "code",
   "execution_count": null,
   "metadata": {},
   "outputs": [],
   "source": [
    "# Calculate the rolling standard deviation for all portfolios using a 21-day window\n",
    "\n",
    "# Plot the rolling standard deviation\n"
   ]
  },
  {
   "cell_type": "markdown",
   "metadata": {
    "jp-MarkdownHeadingCollapsed": true,
    "tags": []
   },
   "source": [
    "### Calculate and plot the correlation"
   ]
  },
  {
   "cell_type": "code",
   "execution_count": null,
   "metadata": {},
   "outputs": [],
   "source": [
    "# Calculate the correlation\n",
    "\n",
    "# Display de correlation matrix\n"
   ]
  },
  {
   "cell_type": "markdown",
   "metadata": {
    "jp-MarkdownHeadingCollapsed": true,
    "tags": []
   },
   "source": [
    "### Calculate and Plot Beta for a chosen portfolio and the S&P 500"
   ]
  },
  {
   "cell_type": "code",
   "execution_count": null,
   "metadata": {},
   "outputs": [],
   "source": [
    "# Calculate covariance of a single portfolio\n",
    "\n",
    "# Calculate variance of S&P 500\n",
    "\n",
    "# Computing beta\n",
    "\n",
    "# Plot beta trend\n"
   ]
  },
  {
   "cell_type": "markdown",
   "metadata": {
    "jp-MarkdownHeadingCollapsed": true,
    "tags": []
   },
   "source": [
    "## Rolling Statistics Challenge: Exponentially Weighted Average \n",
    "\n",
    "An alternative way to calculate a rolling window is to take the exponentially weighted moving average. This is like a moving window average, but it assigns greater importance to more recent observations. Try calculating the [`ewm`](https://pandas.pydata.org/pandas-docs/stable/reference/api/pandas.DataFrame.ewm.html) with a 21-day half life for each portfolio, using standard deviation (`std`) as the metric of interest."
   ]
  },
  {
   "cell_type": "code",
   "execution_count": null,
   "metadata": {},
   "outputs": [],
   "source": [
    "# Use `ewm` to calculate the rolling window\n"
   ]
  },
  {
   "cell_type": "markdown",
   "metadata": {},
   "source": [
    "---"
   ]
  },
  {
   "cell_type": "markdown",
   "metadata": {
    "jp-MarkdownHeadingCollapsed": true,
    "tags": []
   },
   "source": [
    "# Sharpe Ratios\n",
    "In reality, investment managers and thier institutional investors look at the ratio of return-to-risk, and not just returns alone. After all, if you could invest in one of two portfolios, and each offered the same 10% return, yet one offered lower risk, you'd take that one, right?\n",
    "\n",
    "### Using the daily returns, calculate and visualize the Sharpe ratios using a bar plot"
   ]
  },
  {
   "cell_type": "code",
   "execution_count": null,
   "metadata": {},
   "outputs": [],
   "source": [
    "# Annualized Sharpe Ratios\n"
   ]
  },
  {
   "cell_type": "code",
   "execution_count": null,
   "metadata": {},
   "outputs": [],
   "source": [
    "# Visualize the sharpe ratios as a bar plot\n"
   ]
  },
  {
   "cell_type": "markdown",
   "metadata": {},
   "source": [
    "### Determine whether the algorithmic strategies outperform both the market (S&P 500).\n",
    "\n",
    "Write your answer here!"
   ]
  },
  {
   "cell_type": "markdown",
   "metadata": {},
   "source": [
    "---"
   ]
  },
  {
   "cell_type": "code",
   "execution_count": null,
   "metadata": {},
   "outputs": [],
   "source": [
    "# Reading data from 1st stock\n"
   ]
  },
  {
   "cell_type": "code",
   "execution_count": null,
   "metadata": {},
   "outputs": [],
   "source": [
    "# Reading data from 2nd stock\n"
   ]
  },
  {
   "cell_type": "code",
   "execution_count": null,
   "metadata": {},
   "outputs": [],
   "source": [
    "# Reading data from 3rd stock\n"
   ]
  },
  {
   "cell_type": "code",
   "execution_count": null,
   "metadata": {},
   "outputs": [],
   "source": [
    "# Combine all stocks in a single DataFrame\n"
   ]
  },
  {
   "cell_type": "code",
   "execution_count": null,
   "metadata": {},
   "outputs": [],
   "source": [
    "# Reset Date index\n"
   ]
  },
  {
   "cell_type": "code",
   "execution_count": null,
   "metadata": {},
   "outputs": [],
   "source": [
    "# Reorganize portfolio data by having a column per symbol\n"
   ]
  },
  {
   "cell_type": "code",
   "execution_count": null,
   "metadata": {},
   "outputs": [],
   "source": [
    "# Calculate daily returns\n",
    "\n",
    "# Drop NAs\n",
    "\n",
    "# Display sample data\n"
   ]
  },
  {
   "cell_type": "markdown",
   "metadata": {},
   "source": [
    "## Calculate the weighted returns for the portfolio assuming an equal number of shares for each stock"
   ]
  },
  {
   "cell_type": "code",
   "execution_count": null,
   "metadata": {},
   "outputs": [],
   "source": [
    "# Set weights\n",
    "weights = [1/3, 1/3, 1/3]\n",
    "\n",
    "# Calculate portfolio return\n",
    "\n",
    "# Display sample data\n"
   ]
  },
  {
   "cell_type": "markdown",
   "metadata": {
    "tags": []
   },
   "source": [
    "## Re-run the risk analysis with your portfolio to see how it compares to the others"
   ]
  },
  {
   "cell_type": "markdown",
   "metadata": {},
   "source": [
    "### Calculate the Annualized Standard Deviation"
   ]
  },
  {
   "cell_type": "code",
   "execution_count": null,
   "metadata": {},
   "outputs": [],
   "source": [
    "# Calculate the annualized `std`\n"
   ]
  },
  {
   "cell_type": "markdown",
   "metadata": {},
   "source": [
    "### Calculate and plot rolling `std` with 21-day window"
   ]
  },
  {
   "cell_type": "code",
   "execution_count": null,
   "metadata": {},
   "outputs": [],
   "source": [
    "# Calculate rolling standard deviation\n",
    "\n",
    "# Plot rolling standard deviation\n"
   ]
  },
  {
   "cell_type": "markdown",
   "metadata": {},
   "source": [
    "### Calculate and plot the correlation"
   ]
  },
  {
   "cell_type": "code",
   "execution_count": null,
   "metadata": {},
   "outputs": [],
   "source": [
    "# Calculate and plot the correlation\n"
   ]
  },
  {
   "cell_type": "markdown",
   "metadata": {},
   "source": [
    "### Calculate and Plot the 60-day Rolling Beta for Your Portfolio compared to the S&P 500"
   ]
  },
  {
   "cell_type": "code",
   "execution_count": null,
   "metadata": {},
   "outputs": [],
   "source": [
    "# Calculate and plot Beta\n"
   ]
  },
  {
   "cell_type": "markdown",
   "metadata": {},
   "source": [
    "### Using the daily returns, calculate and visualize the Sharpe ratios using a bar plot"
   ]
  },
  {
   "cell_type": "code",
   "execution_count": null,
   "metadata": {},
   "outputs": [],
   "source": [
    "# Calculate Annualized Sharpe Ratios\n"
   ]
  },
  {
   "cell_type": "code",
   "execution_count": null,
   "metadata": {},
   "outputs": [],
   "source": [
    "# Visualize the sharpe ratios as a bar plot\n"
   ]
  },
  {
   "cell_type": "markdown",
   "metadata": {},
   "source": [
    "### How does your portfolio do?\n",
    "\n",
    "Write your answer here!"
   ]
  },
  {
   "cell_type": "code",
   "execution_count": null,
   "metadata": {},
   "outputs": [],
   "source": []
  }
 ],
 "metadata": {
  "file_extension": ".py",
  "kernelspec": {
   "display_name": "Python 3 (ipykernel)",
   "language": "python",
   "name": "python3"
  },
  "language_info": {
   "codemirror_mode": {
    "name": "ipython",
    "version": 3
   },
   "file_extension": ".py",
   "mimetype": "text/x-python",
   "name": "python",
   "nbconvert_exporter": "python",
   "pygments_lexer": "ipython3",
   "version": "3.10.12"
  },
  "mimetype": "text/x-python",
  "name": "python",
  "npconvert_exporter": "python",
  "pygments_lexer": "ipython3",
  "version": 3
 },
 "nbformat": 4,
 "nbformat_minor": 4
}
