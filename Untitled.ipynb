{
 "cells": [
  {
   "cell_type": "code",
   "execution_count": null,
   "id": "15935435-c6d6-4b91-a73f-c47bc054c96e",
   "metadata": {},
   "outputs": [],
   "source": [
    "\n",
    "# Set output file name\n",
    "output_path = 'output.txt'\n",
    "\n",
    "# Open the output path as a file object\n",
    "with open(output_path, 'w') as file:\n",
    "    # Write daily_average to the output file, convert to string\n",
    "    file.write(f\"There were {customer_total} customers over the course of {day_count} days.\\n\")\n",
    "    file.write(f\"The average daily customer traffic is {daily_average} customers per day.\")"
   ]
  }
 ],
 "metadata": {
  "kernelspec": {
   "display_name": "Python 3 (ipykernel)",
   "language": "python",
   "name": "python3"
  },
  "language_info": {
   "codemirror_mode": {
    "name": "ipython",
    "version": 3
   },
   "file_extension": ".py",
   "mimetype": "text/x-python",
   "name": "python",
   "nbconvert_exporter": "python",
   "pygments_lexer": "ipython3",
   "version": "3.10.12"
  }
 },
 "nbformat": 4,
 "nbformat_minor": 5
}
